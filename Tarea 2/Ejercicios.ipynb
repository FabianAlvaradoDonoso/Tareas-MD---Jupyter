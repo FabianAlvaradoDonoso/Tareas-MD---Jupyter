{
 "cells": [
  {
   "cell_type": "markdown",
   "metadata": {
    "colab_type": "text",
    "id": "4aX-T3hlJ4WL"
   },
   "source": [
    "# Ejercicio 1"
   ]
  },
  {
   "cell_type": "markdown",
   "metadata": {
    "colab_type": "text",
    "collapsed": true,
    "id": "-ixDjPTzJ4WN"
   },
   "source": [
    "Escribir un programa que solicite un número y calcule el cuadrado de ese número.\n",
    "- Si el cuadrado es 100 o mayor, imprima el valor al cuadrado y la palabra 'grande'.\n",
    "- Si el cuadrado está entre 50 y 99, imprima el valor al cuadrado y la palabra 'medio'.\n",
    "- De lo contrario, simplemente imprima 'demasiado pequeño para molestarlo'."
   ]
  },
  {
   "cell_type": "markdown",
   "metadata": {
    "colab_type": "text",
    "id": "a9vRo9zTJ4WO"
   },
   "source": [
    "# Ejercicio 2"
   ]
  },
  {
   "cell_type": "markdown",
   "metadata": {
    "colab_type": "text",
    "collapsed": true,
    "id": "FWB1D75yJ4WO"
   },
   "source": [
    "A continuación se muestra el código que crea una lista de cuatro elementos, representados como diccionarios que especifican el color y tamaño.\n",
    "\n",
    "Añadir código para pedir un número, luego imprimir el color de todos elementos cuyo tamaño es mayor que ese número."
   ]
  },
  {
   "cell_type": "markdown",
   "metadata": {
    "colab_type": "text",
    "id": "uP5XuDxdJ4WP"
   },
   "source": [
    "# Ejercicio 3"
   ]
  },
  {
   "cell_type": "markdown",
   "metadata": {
    "colab_type": "text",
    "collapsed": true,
    "id": "I1vTOvNhJ4WQ"
   },
   "source": [
    "Crear un bucle que solicite dos números, e imprima los colores de todos los elementos cuyo tamaño está entre los dos números, es decir, cuyo tamaño es mayor que el primer número e inferior al segundo número.\n",
    "\n",
    "Si el segundo número del usuario es igual o menor que el primer número, el programa debe imprimir 'Hecho' y detenerse."
   ]
  },
  {
   "cell_type": "markdown",
   "metadata": {
    "colab_type": "text",
    "id": "yzvQsOcHJ4WQ"
   },
   "source": [
    "# Ejercicio 4 - [usar Dataframe]"
   ]
  },
  {
   "cell_type": "markdown",
   "metadata": {
    "colab_type": "text",
    "collapsed": true,
    "id": "dSPNIgbdJ4WR"
   },
   "source": [
    "### 1.- Leer el archivo Countries.csv en un dataframe."
   ]
  },
  {
   "cell_type": "markdown",
   "metadata": {
    "colab_type": "text",
    "id": "Q1q_8qMFJ4WS"
   },
   "source": [
    "### 2.- Imprimir una lista de los países que no tienen linea costerá y no estan en la EU, junto con sus puntos más altos, ordene de menor a mayor sus puntos más altos."
   ]
  },
  {
   "cell_type": "markdown",
   "metadata": {
    "colab_type": "text",
    "id": "1kXACPQdJ4WS"
   },
   "source": [
    "# Ejercicio 5 - [usar Dataframe]"
   ]
  },
  {
   "cell_type": "markdown",
   "metadata": {
    "colab_type": "text",
    "collapsed": true,
    "id": "3ZLQob5jJ4WT"
   },
   "source": [
    "### 1.- Encontrar el punto medio, máximo y mínimo más alto [highest] de los países en la UE y no en la UE."
   ]
  },
  {
   "cell_type": "markdown",
   "metadata": {
    "colab_type": "text",
    "id": "ns8eT5DoJ4WU"
   },
   "source": [
    "### 2.- Encontrar el punto medio, máximo y mínimo más alto [higest] de los países con y sin línea costera."
   ]
  },
  {
   "cell_type": "markdown",
   "metadata": {
    "colab_type": "text",
    "id": "qEWtnmLxJ4WU"
   },
   "source": [
    "# Ejercicio 6 - [usar Dataframe]"
   ]
  },
  {
   "cell_type": "markdown",
   "metadata": {
    "colab_type": "text",
    "id": "wj7RXxanJ4WV"
   },
   "source": [
    "#### 1.- Leer los jugadores y equipos en dataframes [Players.csv] y [Teams.csv]."
   ]
  },
  {
   "cell_type": "markdown",
   "metadata": {
    "colab_type": "text",
    "id": "1d8QbpJ0J4WW"
   },
   "source": [
    "#### 2.- Qué jugador en un equipo con \"ou\" en el nombre, jugó mas de 190 minutos e hizo más de 100 pases? Imprima el apellido del jugador."
   ]
  },
  {
   "cell_type": "markdown",
   "metadata": {
    "colab_type": "text",
    "id": "NBx9dCtLJ4WW"
   },
   "source": [
    "#### 3.- ¿Cuál es el promedio, máximo y mínimo de pases de los defensas y delanteros?"
   ]
  },
  {
   "cell_type": "markdown",
   "metadata": {
    "colab_type": "text",
    "id": "JJy-Bja_J4WX"
   },
   "source": [
    "#### 4.- ¿Qué equipo tiene el mayor ratio de 'goalsFor' y 'goalsAgainst'? Imprimir sólo el nombre del equipo."
   ]
  },
  {
   "cell_type": "markdown",
   "metadata": {
    "colab_type": "text",
    "id": "3D9N05F7J4WY"
   },
   "source": [
    "#### 5.- ¿Cuántos jugadores que juegan en un equipo con ranking <5 jugaron más de 400 minutos?\n"
   ]
  },
  {
   "cell_type": "markdown",
   "metadata": {
    "colab_type": "text",
    "id": "uyPd5lDEJ4WY"
   },
   "source": [
    "#### 6.- Calcule por cada equipo la diferencia entre el jugador que da menos pases con el que da más pases. (use función groupby, agg con función lambda)"
   ]
  },
  {
   "cell_type": "markdown",
   "metadata": {
    "colab_type": "text",
    "id": "wEBP3KICJ4WZ"
   },
   "source": [
    "# Ejercicio 7  - [usar Dataframe]"
   ]
  },
  {
   "cell_type": "markdown",
   "metadata": {
    "colab_type": "text",
    "collapsed": true,
    "id": "QgLYEyt_J4Wa"
   },
   "source": [
    "Escribir un bucle que interactivamente le pide al usuario que introduzca un nombre de equipo.\n",
    "- Si el equipo existe, liste todos los jugadores de ese equipo (con toda su información), ordenados por minutos descendentes.\n",
    "- Si el equipo no existe, imprima \"Este equipo no clasifico al mundial\".\n",
    "- Si se ingresa 'salir', termine el loop."
   ]
  }
 ],
 "metadata": {
  "colab": {
   "collapsed_sections": [],
   "name": "Tarea2.ipynb",
   "provenance": [],
   "version": "0.3.2"
  },
  "kernelspec": {
   "display_name": "Python 3",
   "language": "python",
   "name": "python3"
  },
  "language_info": {
   "codemirror_mode": {
    "name": "ipython",
    "version": 3
   },
   "file_extension": ".py",
   "mimetype": "text/x-python",
   "name": "python",
   "nbconvert_exporter": "python",
   "pygments_lexer": "ipython3",
   "version": "3.7.3"
  },
  "toc": {
   "base_numbering": 1,
   "nav_menu": {},
   "number_sections": true,
   "sideBar": true,
   "skip_h1_title": false,
   "title_cell": "Table of Contents",
   "title_sidebar": "Contents",
   "toc_cell": false,
   "toc_position": {},
   "toc_section_display": true,
   "toc_window_display": false
  },
  "varInspector": {
   "cols": {
    "lenName": 16,
    "lenType": 16,
    "lenVar": 40
   },
   "kernels_config": {
    "python": {
     "delete_cmd_postfix": "",
     "delete_cmd_prefix": "del ",
     "library": "var_list.py",
     "varRefreshCmd": "print(var_dic_list())"
    },
    "r": {
     "delete_cmd_postfix": ") ",
     "delete_cmd_prefix": "rm(",
     "library": "var_list.r",
     "varRefreshCmd": "cat(var_dic_list()) "
    }
   },
   "types_to_exclude": [
    "module",
    "function",
    "builtin_function_or_method",
    "instance",
    "_Feature"
   ],
   "window_display": false
  }
 },
 "nbformat": 4,
 "nbformat_minor": 1
}
