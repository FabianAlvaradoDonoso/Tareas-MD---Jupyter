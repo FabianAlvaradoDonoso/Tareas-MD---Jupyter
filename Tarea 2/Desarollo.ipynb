{
 "cells": [
  {
   "cell_type": "code",
   "execution_count": 2,
   "metadata": {
    "slideshow": {
     "slide_type": "-"
    }
   },
   "outputs": [
    {
     "name": "stdout",
     "output_type": "stream",
     "text": [
      "Ingrese un número: 2\n",
      "Demaciado pequeño para molestarlo.\n"
     ]
    }
   ],
   "source": [
    "#Ejercicio 1\n",
    "numero = pow(int(input('Ingrese un número: ')),2)\n",
    "if numero >= 100:\n",
    "    print(str(numero) + ', grande.')\n",
    "else:\n",
    "    if numero >= 50 and numero <= 99:\n",
    "        print(str(numero) + ', medio.')\n",
    "    else:\n",
    "        print('Demaciado pequeño para molestarlo.')"
   ]
  },
  {
   "cell_type": "code",
   "execution_count": 3,
   "metadata": {
    "scrolled": true
   },
   "outputs": [
    {
     "name": "stdout",
     "output_type": "stream",
     "text": [
      "Ingrese un número: 16\n",
      "Rojo\n",
      "Negro\n"
     ]
    }
   ],
   "source": [
    "#Ejercicio 2\n",
    "listaD = [{'color':'Rojo', 'tamaño':32}, {'color':'Azul', 'tamaño':15},\n",
    "         {'color':'Blanco', 'tamaño':10}, {'color':'Negro', 'tamaño':40}]\n",
    "\n",
    "numero = int(input('Ingrese un número: '))\n",
    "\n",
    "for x in listaD:\n",
    "    if x['tamaño'] > numero:\n",
    "        print(x['color'])"
   ]
  },
  {
   "cell_type": "code",
   "execution_count": 4,
   "metadata": {},
   "outputs": [
    {
     "name": "stdout",
     "output_type": "stream",
     "text": [
      "Ingrese el primer número: 14\n",
      "Ingrese el segundo número: 33\n",
      "Rojo\n",
      "Azul\n",
      "Ingrese el primer número: 1\n",
      "Ingrese el segundo número: 1\n",
      "Hecho.\n"
     ]
    }
   ],
   "source": [
    "#Ejercicio 3\n",
    "listaD = [{'color':'Rojo', 'tamaño':32}, {'color':'Azul', 'tamaño':15},\n",
    "         {'color':'Blanco', 'tamaño':10}, {'color':'Negro', 'tamaño':40}]\n",
    "\n",
    "while True:\n",
    "    numero1 = int(input('Ingrese el primer número: '))\n",
    "    numero2 = int(input('Ingrese el segundo número: '))\n",
    "    \n",
    "    for x in listaD:\n",
    "        if x['tamaño'] > numero1 and x['tamaño'] < numero2:\n",
    "            print(x['color'])\n",
    "\n",
    "    if numero2 <= numero1:\n",
    "        print('Hecho.')\n",
    "        break"
   ]
  },
  {
   "cell_type": "code",
   "execution_count": 5,
   "metadata": {},
   "outputs": [
    {
     "data": {
      "text/html": [
       "<div>\n",
       "<style scoped>\n",
       "    .dataframe tbody tr th:only-of-type {\n",
       "        vertical-align: middle;\n",
       "    }\n",
       "\n",
       "    .dataframe tbody tr th {\n",
       "        vertical-align: top;\n",
       "    }\n",
       "\n",
       "    .dataframe thead th {\n",
       "        text-align: right;\n",
       "    }\n",
       "</style>\n",
       "<table border=\"1\" class=\"dataframe\">\n",
       "  <thead>\n",
       "    <tr style=\"text-align: right;\">\n",
       "      <th></th>\n",
       "      <th>country</th>\n",
       "      <th>highest</th>\n",
       "    </tr>\n",
       "  </thead>\n",
       "  <tbody>\n",
       "    <tr>\n",
       "      <th>3</th>\n",
       "      <td>Belarus</td>\n",
       "      <td>345</td>\n",
       "    </tr>\n",
       "    <tr>\n",
       "      <th>26</th>\n",
       "      <td>Moldova</td>\n",
       "      <td>430</td>\n",
       "    </tr>\n",
       "    <tr>\n",
       "      <th>33</th>\n",
       "      <td>Serbia</td>\n",
       "      <td>2169</td>\n",
       "    </tr>\n",
       "    <tr>\n",
       "      <th>5</th>\n",
       "      <td>Bosnia and Herzegovina</td>\n",
       "      <td>2386</td>\n",
       "    </tr>\n",
       "    <tr>\n",
       "      <th>22</th>\n",
       "      <td>Liechtenstein</td>\n",
       "      <td>2599</td>\n",
       "    </tr>\n",
       "    <tr>\n",
       "      <th>20</th>\n",
       "      <td>Kosovo</td>\n",
       "      <td>2656</td>\n",
       "    </tr>\n",
       "    <tr>\n",
       "      <th>25</th>\n",
       "      <td>Macedonia</td>\n",
       "      <td>2764</td>\n",
       "    </tr>\n",
       "    <tr>\n",
       "      <th>1</th>\n",
       "      <td>Andorra</td>\n",
       "      <td>2942</td>\n",
       "    </tr>\n",
       "    <tr>\n",
       "      <th>38</th>\n",
       "      <td>Switzerland</td>\n",
       "      <td>4634</td>\n",
       "    </tr>\n",
       "  </tbody>\n",
       "</table>\n",
       "</div>"
      ],
      "text/plain": [
       "                   country  highest\n",
       "3                  Belarus      345\n",
       "26                 Moldova      430\n",
       "33                  Serbia     2169\n",
       "5   Bosnia and Herzegovina     2386\n",
       "22           Liechtenstein     2599\n",
       "20                  Kosovo     2656\n",
       "25               Macedonia     2764\n",
       "1                  Andorra     2942\n",
       "38             Switzerland     4634"
      ]
     },
     "execution_count": 5,
     "metadata": {},
     "output_type": "execute_result"
    }
   ],
   "source": [
    "#Ejercicio 4\n",
    "import pandas as pd\n",
    "f = open('.\\Countries.csv','r')\n",
    "countries = pd.read_csv(f)\n",
    "countries[(countries.EU == 'no') & (countries.coastline == 'no')][['country', 'highest']].sort_values(by=['highest'],ascending=[True])"
   ]
  },
  {
   "cell_type": "code",
   "execution_count": 6,
   "metadata": {},
   "outputs": [
    {
     "name": "stdout",
     "output_type": "stream",
     "text": [
      "#1\n",
      "El punto mínimo (UA):  171\n",
      "El punto máximo (UA):  4810\n",
      "El punto medio (UA):  1968.148148148148 \n",
      "\n",
      "El punto mínimo (no UA):  345\n",
      "El punto máximo (no UA):  5137\n",
      "El punto medio (no UA):  2533.3333333333335 \n",
      "\n",
      "#2\n",
      "El punto mínimo (coastline):  171\n",
      "El punto máximo (coastline):  5137\n",
      "El punto medio (coastline):  2163.75 \n",
      "\n",
      "El punto mínimo (no coastline):  345\n",
      "El punto máximo (no coastline):  4634\n",
      "El punto medio (no coastline):  2182.5\n"
     ]
    }
   ],
   "source": [
    "#Ejercicio 5\n",
    "import pandas as pd\n",
    "f = open('.\\Countries.csv','r')\n",
    "countries = pd.read_csv(f)\n",
    "\n",
    "print('#1')\n",
    "#Pertenecientes a la EU\n",
    "print('El punto mínimo (UA): ', countries[(countries.EU == 'yes')].min().highest)\n",
    "print('El punto máximo (UA): ', countries[(countries.EU == 'yes')].max().highest)\n",
    "print('El punto medio (UA): ', countries[(countries.EU == 'yes')].mean().highest, '\\n')\n",
    "\n",
    "#No pertenecientes a la EU\n",
    "print('El punto mínimo (no UA): ', countries[(countries.EU == 'no')].min().highest)\n",
    "print('El punto máximo (no UA): ', countries[(countries.EU == 'no')].max().highest)\n",
    "print('El punto medio (no UA): ', countries[(countries.EU == 'no')].mean().highest, '\\n')\n",
    "\n",
    "print('#2')\n",
    "#Con linea costera\n",
    "print('El punto mínimo (coastline): ', countries[(countries.coastline == 'yes')].min().highest)\n",
    "print('El punto máximo (coastline): ', countries[(countries.coastline == 'yes')].max().highest)\n",
    "print('El punto medio (coastline): ', countries[(countries.coastline == 'yes')].mean().highest, '\\n')\n",
    "\n",
    "#Sin linea costera\n",
    "print('El punto mínimo (no coastline): ', countries[(countries.coastline == 'no')].min().highest)\n",
    "print('El punto máximo (no coastline): ', countries[(countries.coastline == 'no')].max().highest)\n",
    "print('El punto medio (no coastline): ', countries[(countries.coastline == 'no')].mean().highest)"
   ]
  },
  {
   "cell_type": "code",
   "execution_count": 7,
   "metadata": {},
   "outputs": [
    {
     "name": "stdout",
     "output_type": "stream",
     "text": [
      "#2\n",
      "            surname\n",
      "529       Cha Du-Ri\n",
      "530  Cho Yong-Hyung\n",
      "532    Ki Sung-Yong\n",
      "535    Kim Jung-Woo\n",
      "537  Lee Chung-Yong\n",
      "539    Lee Jung-Soo\n",
      "541   Lee Young-Pyo\n",
      "544    Park Ji-Sung\n",
      "567        Masilela\n",
      "568          Modise\n",
      "576         Pienaar\n",
      "579      Tshabalala \n",
      "\n",
      "#3\n",
      "Mínimo:  0\n",
      "Máximo:  402\n",
      "Promedio:  80.25679758308156 \n",
      "\n",
      "#4\n",
      "El equipo que tiene el mayor ratio de goalsFor y goalsAgainst:  Uruguay \n",
      "\n",
      "#5\n",
      "Cantidad de jugadores en equipos con raking < 5 y que jugaron mas de 400 min: 26 \n",
      "\n",
      "#6\n",
      "             passes           \n",
      "                  N Diferencia\n",
      "team                          \n",
      "Algeria          18        157\n",
      "Argentina        20        313\n",
      "Australia        19        146\n",
      "Brazil           19        298\n",
      "Cameroon         20        161\n",
      "Chile            20        180\n",
      "Denmark          19        174\n",
      "England          19        225\n",
      "France           19        118\n",
      "Germany          19        418\n",
      "Ghana            19        303\n",
      "Greece           19        149\n",
      "Honduras         19         85\n",
      "Italy            19        200\n",
      "Ivory Coast      16        195\n",
      "Japan            18        147\n",
      "Mexico           18        245\n",
      "Netherlands      18        295\n",
      "New Zealand      15        119\n",
      "Nigeria          18         95\n",
      "North Korea      15        117\n",
      "Paraguay         20        211\n",
      "Portugal         20        166\n",
      "Serbia           19        162\n",
      "Slovakia         21        202\n",
      "Slovenia         15        159\n",
      "South Africa     19        130\n",
      "South Korea      17        184\n",
      "Spain            20        562\n",
      "Switzerland      18        138\n",
      "USA              19        208\n",
      "Uruguay          21        251\n"
     ]
    },
    {
     "name": "stderr",
     "output_type": "stream",
     "text": [
      "C:\\Users\\fabia\\Anaconda3\\lib\\site-packages\\pandas\\core\\groupby\\generic.py:1315: FutureWarning: using a dict with renaming is deprecated and will be removed in a future version\n",
      "  return super(DataFrameGroupBy, self).aggregate(arg, *args, **kwargs)\n"
     ]
    }
   ],
   "source": [
    "#Ejercicio 6\n",
    "import pandas as pd\n",
    "\n",
    "#1\n",
    "p = open('.\\Players.csv','r')\n",
    "players = pd.read_csv(p)\n",
    "t = open('.\\Teams.csv','r')\n",
    "teams = pd.read_csv(t)\n",
    "playersTeams = teams.merge(players, on='team', how = 'outer')\n",
    "\n",
    "#2\n",
    "print('#2')\n",
    "print(playersTeams[(playersTeams.team.str.contains('ou')) & (playersTeams.minutes > 180) & (playersTeams.passes > 100)][['surname']], '\\n')\n",
    "\n",
    "#3\n",
    "print('#3')\n",
    "print('Mínimo: ', playersTeams[((playersTeams.position == 'defender') | (playersTeams.position == 'forward'))].min().passes)\n",
    "print('Máximo: ', playersTeams[((playersTeams.position == 'defender') | (playersTeams.position == 'forward'))].max().passes)\n",
    "print('Promedio: ', playersTeams[((playersTeams.position == 'defender') | (playersTeams.position == 'forward'))].mean().passes, '\\n')\n",
    "\n",
    "#4\n",
    "print('#4')\n",
    "playersTeams['ratio'] = playersTeams.goalsFor / playersTeams.goalsAgainst\n",
    "print('El equipo que tiene el mayor ratio de goalsFor y goalsAgainst: ', playersTeams[['team', 'ratio']].max().team, '\\n')\n",
    "\n",
    "#5\n",
    "print('#5')\n",
    "print('Cantidad de jugadores en equipos con raking < 5 y que jugaron mas de 400 min:', playersTeams[(playersTeams.ranking < 5) & (playersTeams.minutes > 400)].count().surname, '\\n')\n",
    "\n",
    "#6\n",
    "print('#6')\n",
    "def diferencia(row):\n",
    "    return (row.max() - row.min())\n",
    "\n",
    "print(playersTeams.groupby('team').agg({'passes' : {'N': 'count', 'Diferencia' : lambda x : diferencia(x)}}))"
   ]
  },
  {
   "cell_type": "code",
   "execution_count": 1,
   "metadata": {},
   "outputs": [
    {
     "name": "stdout",
     "output_type": "stream",
     "text": [
      "Ingrese el nombre del equipo: USA\n",
      "           surname team    position  minutes  shots  passes  tackles  saves\n",
      "585        Donovan  USA     forward      390      7     165        9      0\n",
      "591         Howard  USA  goalkeeper      390      0      81        0     14\n",
      "579        Bradley  USA  midfielder      390      6     210        9      0\n",
      "581     Cherundolo  USA    defender      390      1     180       10      0\n",
      "583        Demerit  USA    defender      390      2     129        7      0\n",
      "584        Dempsey  USA  midfielder      390     15     137        6      0\n",
      "577      Bocanegra  USA    defender      390      1     130        9      0\n",
      "592  Jozy Altidore  USA     forward      356      8      84        2      0\n",
      "578      Bornstein  USA    defender      200      2      72        5      0\n",
      "586            Edu  USA  midfielder      198      2     116        4      0\n",
      "593         Onyewu  USA    defender      170      1      69        2      0\n",
      "588        Findley  USA     forward      167      1      40        0      0\n",
      "587      Feilhaber  USA  midfielder      165      3      71        5      0\n",
      "582          Clark  USA  midfielder      121      0      42        4      0\n",
      "589          Gomez  USA     forward       85      4      18        0      0\n",
      "594         Torres  USA  midfielder       45      1      32        0      0\n",
      "580         Buddle  USA     forward       39      1      12        0      0\n",
      "576        Beasley  USA  midfielder       10      0       4        0      0\n",
      "590         Holden  USA  midfielder        4      0       2        0      0\n",
      "\n",
      "\n",
      "Ingrese el nombre del equipo: Chile\n",
      "        surname   team    position  minutes  shots  passes  tackles  saves\n",
      "96   Beausejour  Chile  midfielder      360      2     100        7      0\n",
      "97        Bravo  Chile  goalkeeper      360      0      58        0      4\n",
      "112     Sanchez  Chile     forward      335      7     113       13      0\n",
      "104        Isla  Chile    defender      332      1     123       10      0\n",
      "105        Jara  Chile    defender      308      1     187        8      0\n",
      "115       Vidal  Chile    defender      306      6     178       17      0\n",
      "110       Ponce  Chile    defender      270      2     113        4      0\n",
      "98      Carmona  Chile  midfielder      270      1     175        9      0\n",
      "106       Medel  Chile    defender      270      1     123        7      0\n",
      "114    Valdivia  Chile     forward      222      3      91        3      0\n",
      "101   Fernandez  Chile  midfielder      155      1      72        2      0\n",
      "103    Gonzalez  Chile  midfielder      138     10      41        6      0\n",
      "111       Suazo  Chile     forward      135      4      39        1      0\n",
      "107      Millar  Chile  midfielder      125      1      80        3      0\n",
      "102     Fuentes  Chile    defender       90      0      27        3      0\n",
      "109     Paredes  Chile     forward       70      3      11        5      0\n",
      "99    Contreras  Chile    defender       54      0      17        1      0\n",
      "113       Tello  Chile  midfielder       45      0      29        1      0\n",
      "100     Estrada  Chile  midfielder       37      1      16        2      0\n",
      "108    Orellana  Chile     forward       25      1       7        0      0\n",
      "\n",
      "\n",
      "Ingrese el nombre del equipo: salir\n"
     ]
    }
   ],
   "source": [
    "#Ejercicio 7\n",
    "import pandas as pd\n",
    "\n",
    "p = open('.\\Players.csv','r')\n",
    "players = pd.read_csv(p)\n",
    "\n",
    "while True:\n",
    "    nombre = input('Ingrese el nombre del equipo: ')\n",
    "    if nombre == 'salir':\n",
    "        break\n",
    "    if int(players[(players.team == nombre)].count().team) > 0:\n",
    "        print(players[(players.team == nombre)].sort_values(by=['minutes'],ascending=[False]))\n",
    "        print('\\n')\n",
    "    else:\n",
    "        print('Este equipo no clasifico al mundial')\n",
    "        print('\\n')\n"
   ]
  }
 ],
 "metadata": {
  "kernelspec": {
   "display_name": "Python 3",
   "language": "python",
   "name": "python3"
  },
  "language_info": {
   "codemirror_mode": {
    "name": "ipython",
    "version": 3
   },
   "file_extension": ".py",
   "mimetype": "text/x-python",
   "name": "python",
   "nbconvert_exporter": "python",
   "pygments_lexer": "ipython3",
   "version": "3.7.3"
  }
 },
 "nbformat": 4,
 "nbformat_minor": 2
}
